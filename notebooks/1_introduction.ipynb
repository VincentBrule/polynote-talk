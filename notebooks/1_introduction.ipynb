{
  "metadata" : {
    "config" : {
      "dependencies" : {
        "python" : [
          "pandas"
        ],
        "scala" : [
          "com.softwaremill.diffx:diffx-core_2.12:0.3.29"
        ]
      },
      "exclusions" : [
      ],
      "repositories" : [
      ],
      "sparkConfig" : {
        "spark.master" : "local[*]"
      },
      "env" : {
        
      }
    },
    "language_info" : {
      "name" : "scala"
    }
  },
  "nbformat" : 4,
  "nbformat_minor" : 0,
  "cells" : [
    {
      "cell_type" : "markdown",
      "execution_count" : 0,
      "metadata" : {
        "language" : "text"
      },
      "language" : "text",
      "source" : [
        "# *Introduction *Strong**\n",
        "\n",
        "\n",
        "### How to use a notebook?\n",
        "\n",
        "\n"
      ],
      "outputs" : [
      ]
    },
    {
      "cell_type" : "markdown",
      "execution_count" : 1,
      "metadata" : {
        "language" : "text"
      },
      "language" : "text",
      "source" : [
        "## Latex\n",
        "\n",
        "\n",
        "$$\\lim\\limits_{x \\to \\infty} \\exp(-x) = 0$$\n",
        "\n",
        "<br>\n",
        "\n",
        "\n"
      ],
      "outputs" : [
      ]
    },
    {
      "cell_type" : "markdown",
      "execution_count" : 2,
      "metadata" : {
        "language" : "text"
      },
      "language" : "text",
      "source" : [
        "## Vega ([https://vega.github.io/vega/](https://vega.github.io/vega/))\n",
        "\n",
        "\n"
      ],
      "outputs" : [
      ]
    },
    {
      "cell_type" : "code",
      "execution_count" : 3,
      "metadata" : {
        "language" : "vega"
      },
      "language" : "vega",
      "source" : [
        "{\n",
        "  \"$schema\": \"https://vega.github.io/schema/vega/v5.json\",\n",
        "  \"description\": \"A basic line chart example.\",\n",
        "  \"width\": 1000,\n",
        "  \"height\": 400,\n",
        "  \"padding\": 5,\n",
        "\n",
        "  \"signals\": [\n",
        "    {\n",
        "      \"name\": \"interpolate\",\n",
        "      \"value\": \"linear\",\n",
        "      \"bind\": {\n",
        "        \"input\": \"select\",\n",
        "        \"options\": [\n",
        "          \"basis\",\n",
        "          \"cardinal\",\n",
        "          \"catmull-rom\",\n",
        "          \"linear\",\n",
        "          \"monotone\",\n",
        "          \"natural\",\n",
        "          \"step\",\n",
        "          \"step-after\",\n",
        "          \"step-before\"\n",
        "        ]\n",
        "      }\n",
        "    }\n",
        "  ],\n",
        "\n",
        "  \"data\": [\n",
        "    {\n",
        "      \"name\": \"table\",\n",
        "      \"values\": [\n",
        "        {\"x\": 0, \"y\": 28, \"c\":0}, {\"x\": 0, \"y\": 20, \"c\":1},\n",
        "        {\"x\": 1, \"y\": 43, \"c\":0}, {\"x\": 1, \"y\": 35, \"c\":1},\n",
        "        {\"x\": 2, \"y\": 81, \"c\":0}, {\"x\": 2, \"y\": 10, \"c\":1},\n",
        "        {\"x\": 3, \"y\": 19, \"c\":0}, {\"x\": 3, \"y\": 15, \"c\":1},\n",
        "        {\"x\": 4, \"y\": 52, \"c\":0}, {\"x\": 4, \"y\": 48, \"c\":1},\n",
        "        {\"x\": 5, \"y\": 24, \"c\":0}, {\"x\": 5, \"y\": 28, \"c\":1},\n",
        "        {\"x\": 6, \"y\": 87, \"c\":0}, {\"x\": 6, \"y\": 66, \"c\":1},\n",
        "        {\"x\": 7, \"y\": 17, \"c\":0}, {\"x\": 7, \"y\": 27, \"c\":1},\n",
        "        {\"x\": 8, \"y\": 68, \"c\":0}, {\"x\": 8, \"y\": 16, \"c\":1},\n",
        "        {\"x\": 9, \"y\": 49, \"c\":0}, {\"x\": 9, \"y\": 25, \"c\":1}\n",
        "      ]\n",
        "    }\n",
        "  ],\n",
        "\n",
        "  \"scales\": [\n",
        "    {\n",
        "      \"name\": \"x\",\n",
        "      \"type\": \"point\",\n",
        "      \"range\": \"width\",\n",
        "      \"domain\": {\"data\": \"table\", \"field\": \"x\"}\n",
        "    },\n",
        "    {\n",
        "      \"name\": \"y\",\n",
        "      \"type\": \"linear\",\n",
        "      \"range\": \"height\",\n",
        "      \"nice\": true,\n",
        "      \"zero\": true,\n",
        "      \"domain\": {\"data\": \"table\", \"field\": \"y\"}\n",
        "    },\n",
        "    {\n",
        "      \"name\": \"color\",\n",
        "      \"type\": \"ordinal\",\n",
        "      \"range\": \"category\",\n",
        "      \"domain\": {\"data\": \"table\", \"field\": \"c\"}\n",
        "    }\n",
        "  ],\n",
        "\n",
        "  \"axes\": [\n",
        "    {\"orient\": \"bottom\", \"scale\": \"x\"},\n",
        "    {\"orient\": \"left\", \"scale\": \"y\"}\n",
        "  ],\n",
        "\n",
        "  \"marks\": [\n",
        "    {\n",
        "      \"type\": \"group\",\n",
        "      \"from\": {\n",
        "        \"facet\": {\n",
        "          \"name\": \"series\",\n",
        "          \"data\": \"table\",\n",
        "          \"groupby\": \"c\"\n",
        "        }\n",
        "      },\n",
        "      \"marks\": [\n",
        "        {\n",
        "          \"type\": \"line\",\n",
        "          \"from\": {\"data\": \"series\"},\n",
        "          \"encode\": {\n",
        "            \"enter\": {\n",
        "              \"x\": {\"scale\": \"x\", \"field\": \"x\"},\n",
        "              \"y\": {\"scale\": \"y\", \"field\": \"y\"},\n",
        "              \"stroke\": {\"scale\": \"color\", \"field\": \"c\"},\n",
        "              \"strokeWidth\": {\"value\": 2}\n",
        "            },\n",
        "            \"update\": {\n",
        "              \"interpolate\": {\"signal\": \"interpolate\"},\n",
        "              \"strokeOpacity\": {\"value\": 1}\n",
        "            },\n",
        "            \"hover\": {\n",
        "              \"strokeOpacity\": {\"value\": 0.5}\n",
        "            }\n",
        "          }\n",
        "        }\n",
        "      ]\n",
        "    }\n",
        "  ]\n",
        "}"
      ],
      "outputs" : [
      ]
    },
    {
      "cell_type" : "markdown",
      "execution_count" : 4,
      "metadata" : {
        "language" : "text"
      },
      "language" : "text",
      "source" : [
        "## Python\n",
        "\n"
      ],
      "outputs" : [
      ]
    },
    {
      "cell_type" : "code",
      "execution_count" : 5,
      "metadata" : {
        "cell.metadata.exec_info" : {
          "startTs" : 1594995484307,
          "endTs" : 1594995489628
        },
        "language" : "python"
      },
      "language" : "python",
      "source" : [
        "for i in range(0, 10):\n",
        "    print(i)"
      ],
      "outputs" : [
      ]
    },
    {
      "cell_type" : "markdown",
      "execution_count" : 6,
      "metadata" : {
        "language" : "text"
      },
      "language" : "text",
      "source" : [
        "### **Order is important**\n",
        "\n"
      ],
      "outputs" : [
      ]
    },
    {
      "cell_type" : "code",
      "execution_count" : 7,
      "metadata" : {
        "cell.metadata.exec_info" : {
          "startTs" : 1594992303101,
          "endTs" : 1594992303183
        },
        "language" : "python"
      },
      "language" : "python",
      "source" : [
        "print(x)"
      ],
      "outputs" : [
      ]
    },
    {
      "cell_type" : "code",
      "execution_count" : 8,
      "metadata" : {
        "cell.metadata.exec_info" : {
          "startTs" : 1594995520871,
          "endTs" : 1594995521042
        },
        "language" : "python"
      },
      "language" : "python",
      "source" : [
        "x = 2"
      ],
      "outputs" : [
      ]
    },
    {
      "cell_type" : "markdown",
      "execution_count" : 9,
      "metadata" : {
        "language" : "text"
      },
      "language" : "text",
      "source" : [
        "### Add dependency (pandas)\n",
        "\n"
      ],
      "outputs" : [
      ]
    },
    {
      "cell_type" : "code",
      "execution_count" : 10,
      "metadata" : {
        "cell.metadata.exec_info" : {
          "startTs" : 1594995622329,
          "endTs" : 1594995628293
        },
        "language" : "python"
      },
      "language" : "python",
      "source" : [
        "import pandas as pd\n",
        "\n",
        "d = {'x': range(0, 99), 'y': range(0, 99)}\n",
        "df = pd.DataFrame(data=d)\n",
        "df"
      ],
      "outputs" : [
      ]
    },
    {
      "cell_type" : "markdown",
      "execution_count" : 11,
      "metadata" : {
        "language" : "text"
      },
      "language" : "text",
      "source" : [
        "## Scala with code editing\n",
        "\n",
        "\n"
      ],
      "outputs" : [
      ]
    },
    {
      "cell_type" : "code",
      "execution_count" : 12,
      "metadata" : {
        "cell.metadata.exec_info" : {
          "startTs" : 1594995701896,
          "endTs" : 1594995702852
        },
        "language" : "scala"
      },
      "language" : "scala",
      "source" : [
        "sealed trait Parent\n",
        "case class Bar(s: String, i: Int) extends Parent\n",
        "\n",
        "val bar = Bar(\"Tech Talk\", 1)\n",
        "bar"
      ],
      "outputs" : [
      ]
    },
    {
      "cell_type" : "code",
      "execution_count" : 13,
      "metadata" : {
        "cell.metadata.exec_info" : {
          "startTs" : 1594995736245,
          "endTs" : 1594995736655
        },
        "language" : "scala"
      },
      "language" : "scala",
      "source" : [
        "val l = (0 to 100).toList\n",
        "l"
      ],
      "outputs" : [
      ]
    },
    {
      "cell_type" : "markdown",
      "execution_count" : 14,
      "metadata" : {
        "language" : "text"
      },
      "language" : "text",
      "source" : [
        "# Spark\n",
        "\n",
        "\n"
      ],
      "outputs" : [
      ]
    },
    {
      "cell_type" : "code",
      "execution_count" : 15,
      "metadata" : {
        "cell.metadata.exec_info" : {
          "startTs" : 1594995774505,
          "endTs" : 1594995778006
        },
        "language" : "scala"
      },
      "language" : "scala",
      "source" : [
        "val data = spark.read.format(\"csv\").option(\"header\", \"true\").option(\"inferSchema\",\"true\").load(\"data/house.csv\")\n",
        "data.show()\n",
        "data\n"
      ],
      "outputs" : [
      ]
    },
    {
      "cell_type" : "code",
      "execution_count" : 16,
      "metadata" : {
        "cell.metadata.exec_info" : {
          "startTs" : 1594995827774,
          "endTs" : 1594995828348
        },
        "language" : "scala"
      },
      "language" : "scala",
      "source" : [
        "val scalaDF = spark.createDataFrame(List(1,2,3).map(x => (x, x*2)))\n",
        "scalaDF"
      ],
      "outputs" : [
      ]
    },
    {
      "cell_type" : "code",
      "execution_count" : 17,
      "metadata" : {
        "cell.metadata.exec_info" : {
          "startTs" : 1594995857644,
          "endTs" : 1594995857999
        },
        "language" : "python"
      },
      "language" : "python",
      "source" : [
        "pandaDF = data.toPandas()\n",
        "pandaDF.head()"
      ],
      "outputs" : [
      ]
    },
    {
      "cell_type" : "code",
      "execution_count" : 18,
      "metadata" : {
        "cell.metadata.exec_info" : {
          "startTs" : 1594995874224,
          "endTs" : 1594995879547
        },
        "language" : "scala"
      },
      "language" : "scala",
      "source" : [
        "for( a <- 1 to 5) {\n",
        "    Thread.sleep(1000) // wait for 1 second\n",
        "}"
      ],
      "outputs" : [
      ]
    }
  ]
}