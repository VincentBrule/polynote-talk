{
  "metadata" : {
    "config" : {
      "dependencies" : {
        "python" : [
          "matplotlib",
          "pyfunctional"
        ],
        "scala" : [
          "com.lihaoyi:requests_2.12:0.5.1",
          "com.lihaoyi:ujson_2.12:0.9.5"
        ]
      },
      "exclusions" : [
      ],
      "repositories" : [
      ],
      "sparkConfig" : {
        
      },
      "env" : {
        
      }
    },
    "language_info" : {
      "name" : "python"
    }
  },
  "nbformat" : 4,
  "nbformat_minor" : 0,
  "cells" : [
    {
      "cell_type" : "markdown",
      "execution_count" : 0,
      "metadata" : {
        "language" : "text"
      },
      "language" : "text",
      "source" : [
        "# Scala & its Ecosystem \n",
        "\n",
        "### Part 1: **Polynote + request + uJson**\n",
        "\n",
        "### **Dependencies**\n",
        "\n",
        "***Python:**<br>*\n",
        "\n",
        "\n",
        "* matplotlib (plotting) - [https://matplotlib.org/](https://matplotlib.org/)\n",
        "* pyFunctional (functional programming with collections in a data pipeline style) - [https://www.pyfunctional.org/](https://www.pyfunctional.org/)\n",
        "\n",
        "\n",
        "**Scala:**\n",
        "\n",
        "\n",
        "* \n",
        "  request (request HTTP) - [https://github.com/lihaoyi/requests-scala](https://github.com/lihaoyi/requests-scala)\n",
        "  \n",
        "  \n",
        "  \n",
        "* \n",
        "  uJson (decode json response) - [https://www.lihaoyi.com/post/uJsonfastflexibleandintuitiveJSONforScala.html](https://www.lihaoyi.com/post/uJsonfastflexibleandintuitiveJSONforScala.html)\n",
        "  \n",
        "  \n",
        "  \n",
        "\n",
        "\n",
        "<br>\n",
        "The goal of this notebook is to request weather data with Scala (request + uJson) and plot them with Python (matplotlib + pyfunctional).<br>We will experiment the interaction from Python to Scala and vice versa using JEP through Polynote.\n",
        "\n"
      ],
      "outputs" : [
      ]
    },
    {
      "cell_type" : "markdown",
      "execution_count" : 1,
      "metadata" : {
        "language" : "text"
      },
      "language" : "text",
      "source" : [
        "# Scala\n",
        "\n"
      ],
      "outputs" : [
      ]
    },
    {
      "cell_type" : "markdown",
      "execution_count" : 2,
      "metadata" : {
        "language" : "text"
      },
      "language" : "text",
      "source" : [
        "### Imports\n",
        "\n",
        "\n"
      ],
      "outputs" : [
      ]
    },
    {
      "cell_type" : "code",
      "execution_count" : 3,
      "metadata" : {
        "cell.metadata.exec_info" : {
          "startTs" : 1595491838887,
          "endTs" : 1595491839036
        },
        "language" : "scala"
      },
      "language" : "scala",
      "source" : [
        "import java.util\n",
        "import java.lang.{ Double => JDouble }\n",
        "import java.lang.{ Integer => JInt }\n",
        "import java.lang.{ Long => JLong }\n",
        "import java.util.Locale\n",
        "import java.time.Instant\n",
        "import java.time.temporal.ChronoUnit\n",
        "import ujson.Value\n",
        "import java.time.format.{ DateTimeFormatter, FormatStyle }\n",
        "import polynote.runtime.python.PythonObject\n",
        "import scala.collection.JavaConverters._  "
      ],
      "outputs" : [
      ]
    },
    {
      "cell_type" : "markdown",
      "execution_count" : 4,
      "metadata" : {
        "language" : "text"
      },
      "language" : "text",
      "source" : [
        "> Customisable parameters\n",
        "\n",
        "\n"
      ],
      "outputs" : [
      ]
    },
    {
      "cell_type" : "code",
      "execution_count" : 5,
      "metadata" : {
        "cell.metadata.exec_info" : {
          "startTs" : 1595491839040,
          "endTs" : 1595491839233
        },
        "language" : "scala"
      },
      "language" : "scala",
      "source" : [
        "val (lat, lon) = (51.925120, 4.478390) // Lunatech Rotterdam: Hofplein 20, 3032 AC Rotterdam"
      ],
      "outputs" : [
      ]
    },
    {
      "cell_type" : "markdown",
      "execution_count" : 6,
      "metadata" : {
        "language" : "text"
      },
      "language" : "text",
      "source" : [
      ],
      "outputs" : [
      ]
    },
    {
      "cell_type" : "code",
      "execution_count" : 7,
      "metadata" : {
        "cell.metadata.exec_info" : {
          "startTs" : 1595491839236,
          "endTs" : 1595491839354
        },
        "language" : "scala"
      },
      "language" : "scala",
      "source" : [
        "val apiKeyOpenWeather = // API KEY"
      ],
      "outputs" : [
      ]
    },
    {
      "cell_type" : "markdown",
      "execution_count" : 8,
      "metadata" : {
        "language" : "text"
      },
      "language" : "text",
      "source" : [
        "### Domain Definition\n",
        "\n",
        "\n"
      ],
      "outputs" : [
      ]
    },
    {
      "cell_type" : "markdown",
      "execution_count" : 9,
      "metadata" : {
        "language" : "text"
      },
      "language" : "text",
      "source" : [
        "We define the basics to request the OpenWeatherMap API.<br>We need:\n",
        "\n",
        "\n",
        "* the uri\n",
        "* the header that define the format of the response, `json` here\n",
        "* your private key\n",
        "\n",
        "\n"
      ],
      "outputs" : [
      ]
    },
    {
      "cell_type" : "code",
      "execution_count" : 10,
      "metadata" : {
        "cell.metadata.exec_info" : {
          "startTs" : 1595491839358,
          "endTs" : 1595491839830
        },
        "language" : "scala"
      },
      "language" : "scala",
      "source" : [
        "object OpenWeatherMap {\n",
        "  private val days = List.range(0, 6).map(index => Instant.now().minus(index, ChronoUnit.DAYS)) // UTC\n",
        "  private val uriS = days.map(day => s\"https://api.openweathermap.org/data/2.5/onecall/timemachine?lat=$lat&lon=$lon&units=metric&dt=${day.getEpochSecond}&appid=$apiKeyOpenWeather\")\n",
        "  private val headers = Map(\"Accept\" -> \"application/json\")\n",
        "  \n",
        "  private def search(uri: String): Value = {\n",
        "    val response = requests.get.stream(uri, headers = headers)\n",
        "    ujson.read(response)(\"current\")\n",
        "  }\n",
        "\n",
        "  def search(): List[Value] = {\n",
        "      uriS.map(uri => search(uri))\n",
        "  }\n",
        "}"
      ],
      "outputs" : [
      ]
    },
    {
      "cell_type" : "markdown",
      "execution_count" : 11,
      "metadata" : {
        "language" : "text"
      },
      "language" : "text",
      "source" : [
        "The last thing we need is the DTO to unpack the response from the api and from Python.\n",
        "\n",
        "\n"
      ],
      "outputs" : [
      ]
    },
    {
      "cell_type" : "code",
      "execution_count" : 12,
      "metadata" : {
        "cell.metadata.exec_info" : {
          "startTs" : 1595491839833,
          "endTs" : 1595491840291
        },
        "language" : "scala"
      },
      "language" : "scala",
      "source" : [
        "final case class WeatherData(ts: Instant, temperature: Double, feelLikeTemp: Double, humidity: Int, windSpeed: Double) {\n",
        "    override def toString(): String =    \n",
        "        s\"\"\"| Timestamp = $ts (UTC)\n",
        "            | Temperature = $temperature Celsius \n",
        "            | Feel Like temperature = $feelLikeTemp Celsius \n",
        "            | Humidity = $humidity % \n",
        "            | Wind speed = $windSpeed m/s\"\"\".stripMargin\n",
        "}\n",
        "\n",
        "object WeatherData {\n",
        "    // From JSON\n",
        "    def apply(jsonValue: ujson.Value): WeatherData = {\n",
        "        val temperature = jsonValue(\"temp\").num\n",
        "        val feelLikeTemp = jsonValue(\"feels_like\").num\n",
        "        val humidity = jsonValue(\"humidity\").num.toInt\n",
        "        val windSpeed = jsonValue(\"wind_speed\").num\n",
        "        val ts = Instant.ofEpochSecond(jsonValue(\"dt\").num.toLong)\n",
        "        WeatherData(ts, temperature, feelLikeTemp, humidity, windSpeed)\n",
        "    }\n",
        "\n",
        "    // From Python types\n",
        "    def apply(pythonValue: PythonObject): WeatherData = {\n",
        "        WeatherData(Instant.ofEpochSecond(pythonValue.ts.timestamp().as[JDouble].toLong), \n",
        "            pythonValue.temperature.as[JDouble], \n",
        "            pythonValue.feelLikeTemp.as[JDouble], \n",
        "            pythonValue.humidity.as[JInt], \n",
        "            pythonValue.windSpeed.as[JDouble])\n",
        "    }\n",
        "}"
      ],
      "outputs" : [
      ]
    },
    {
      "cell_type" : "markdown",
      "execution_count" : 13,
      "metadata" : {
        "language" : "text"
      },
      "language" : "text",
      "source" : [
        "#### We request the weather of the current and last 5 days.\n",
        "\n",
        "\n",
        "We convert the Scala List to a Java List because of compatibility issues with JEP during the transformation from Scala to Python.<br>\n",
        "\n",
        "\n",
        "https://github.com/ninia/jep/wiki/How-Jep-Works -> Nice summarise on how JEP works<br>\n",
        "\n",
        "\n"
      ],
      "outputs" : [
      ]
    },
    {
      "cell_type" : "code",
      "execution_count" : 14,
      "metadata" : {
        "cell.metadata.exec_info" : {
          "startTs" : 1595491840296,
          "endTs" : 1595491845447
        },
        "language" : "scala"
      },
      "language" : "scala",
      "source" : [
        "val responses = OpenWeatherMap.search()\n",
        "val datas: java.util.List[WeatherData] = responses.map(WeatherData(_)).asJava"
      ],
      "outputs" : [
      ]
    },
    {
      "cell_type" : "code",
      "execution_count" : 15,
      "metadata" : {
        "cell.metadata.exec_info" : {
          "startTs" : 1595491845451,
          "endTs" : 1595491845556
        },
        "language" : "scala"
      },
      "language" : "scala",
      "source" : [
        "println(datas.get(0))"
      ],
      "outputs" : [
      ]
    },
    {
      "cell_type" : "markdown",
      "execution_count" : 16,
      "metadata" : {
        "language" : "text"
      },
      "language" : "text",
      "source" : [
        "### We now have our WeatherData instances and we will use them in Python 👇\n",
        "\n",
        "\n"
      ],
      "outputs" : [
      ]
    },
    {
      "cell_type" : "markdown",
      "execution_count" : 17,
      "metadata" : {
        "language" : "text"
      },
      "language" : "text",
      "source" : [
        "# Python\n",
        "\n",
        "\n"
      ],
      "outputs" : [
      ]
    },
    {
      "cell_type" : "markdown",
      "execution_count" : 18,
      "metadata" : {
        "language" : "text"
      },
      "language" : "text",
      "source" : [
        "### Imports\n",
        "\n"
      ],
      "outputs" : [
      ]
    },
    {
      "cell_type" : "code",
      "execution_count" : 19,
      "metadata" : {
        "cell.metadata.exec_info" : {
          "startTs" : 1595491845559,
          "endTs" : 1595491845621
        },
        "language" : "python"
      },
      "language" : "python",
      "source" : [
        "from dataclasses import dataclass\n",
        "from functional import seq\n",
        "from datetime import datetime\n",
        "import matplotlib.pyplot as plt\n",
        "import matplotlib\n",
        "import numpy as np\n",
        "from matplotlib.legend_handler import HandlerLine2D"
      ],
      "outputs" : [
      ]
    },
    {
      "cell_type" : "markdown",
      "execution_count" : 20,
      "metadata" : {
        "language" : "text"
      },
      "language" : "text",
      "source" : [
        "### We can access all the fields of a Scala case class with `name()`.\n",
        "\n"
      ],
      "outputs" : [
      ]
    },
    {
      "cell_type" : "code",
      "execution_count" : 21,
      "metadata" : {
        "cell.metadata.exec_info" : {
          "startTs" : 1595491845624,
          "endTs" : 1595491845671
        },
        "language" : "python"
      },
      "language" : "python",
      "source" : [
        "datas.get(0).ts()"
      ],
      "outputs" : [
      ]
    },
    {
      "cell_type" : "markdown",
      "execution_count" : 22,
      "metadata" : {
        "language" : "text"
      },
      "language" : "text",
      "source" : [
        "## Domain Definition\n",
        "\n"
      ],
      "outputs" : [
      ]
    },
    {
      "cell_type" : "code",
      "execution_count" : 23,
      "metadata" : {
        "cell.metadata.exec_info" : {
          "startTs" : 1595491845675,
          "endTs" : 1595491845739
        },
        "language" : "python"
      },
      "language" : "python",
      "source" : [
        "def formatScalaInstant(ts):\n",
        "    return datetime.fromtimestamp(ts.getEpochSecond())\n",
        "\n",
        "# Frozen allow to have immutable fields\n",
        "# Pretty useful to have dataclass in Python now\n",
        "@dataclass(frozen=True)\n",
        "class WeatherDataPython:\n",
        "    ts: 'datetime'\n",
        "    temperature: float\n",
        "    feelLikeTemp: float\n",
        "    humidity: int\n",
        "    windSpeed: float"
      ],
      "outputs" : [
      ]
    },
    {
      "cell_type" : "markdown",
      "execution_count" : 24,
      "metadata" : {
        "language" : "text"
      },
      "language" : "text",
      "source" : [
        "### We are converting Scala `case class` to Python `data class`.\n",
        "\n"
      ],
      "outputs" : [
      ]
    },
    {
      "cell_type" : "code",
      "execution_count" : 25,
      "metadata" : {
        "cell.metadata.exec_info" : {
          "startTs" : 1595491845743,
          "endTs" : 1595491845810
        },
        "language" : "python"
      },
      "language" : "python",
      "source" : [
        "weatherDatas = seq(datas).map(lambda w: WeatherDataPython(formatScalaInstant(w.ts()), w.temperature(), w.feelLikeTemp(), w.humidity(), w.windSpeed()))"
      ],
      "outputs" : [
      ]
    },
    {
      "cell_type" : "code",
      "execution_count" : 26,
      "metadata" : {
        "cell.metadata.exec_info" : {
          "startTs" : 1595491845814,
          "endTs" : 1595491845883
        },
        "language" : "python"
      },
      "language" : "python",
      "source" : [
        "for weather in weatherDatas:\n",
        "    print(weather)"
      ],
      "outputs" : [
      ]
    },
    {
      "cell_type" : "markdown",
      "execution_count" : 27,
      "metadata" : {
        "language" : "text"
      },
      "language" : "text",
      "source" : [
        "## Plotting\n",
        "\n"
      ],
      "outputs" : [
      ]
    },
    {
      "cell_type" : "markdown",
      "execution_count" : 28,
      "metadata" : {
        "language" : "text"
      },
      "language" : "text",
      "source" : [
        "Plot the temperature again the feel like temperature."
      ],
      "outputs" : [
      ]
    },
    {
      "cell_type" : "code",
      "execution_count" : 29,
      "metadata" : {
        "cell.metadata.exec_info" : {
          "startTs" : 1595491845887,
          "endTs" : 1595491845929
        },
        "language" : "python"
      },
      "language" : "python",
      "source" : [
        "def plotExample(ts, temperature, feelLikeTemperature):\n",
        "    plt.close()\n",
        "    fig, (ax1, ax2) = plt.subplots(nrows=2, ncols=1, figsize=(10, 10))\n",
        "    l1, = ax1.plot(ts, temperature, label=\"Temperature °C\", linestyle='--', marker = 'o', color='red')\n",
        "    l2, = ax2.plot(ts, feelLikeTemperature, label=\"Feel Like Temperature °C\", linestyle='-', marker = 'o', color='blue')\n",
        "    plt.legend(handles=[l1, l2], title=\"Legend\", fancybox=True, shadow=True, fontsize='large', loc='best', bbox_to_anchor=(0.51, 0.75, 0.5, 0.5))\n",
        "    plt.gcf().autofmt_xdate()\n",
        "    plt.show()"
      ],
      "outputs" : [
      ]
    },
    {
      "cell_type" : "markdown",
      "execution_count" : 30,
      "metadata" : {
        "language" : "text"
      },
      "language" : "text",
      "source" : [
        "Plot everything together just as an example for this notebook."
      ],
      "outputs" : [
      ]
    },
    {
      "cell_type" : "code",
      "execution_count" : 31,
      "metadata" : {
        "cell.metadata.exec_info" : {
          "startTs" : 1595491845931,
          "endTs" : 1595491845968
        },
        "language" : "python"
      },
      "language" : "python",
      "source" : [
        "def plotAll(ts, humidity, temperature, feelLikeTemperature, windSpeed):\n",
        "    plt.close()\n",
        "    plt.figure(figsize=(10,10))\n",
        "    l1, = plt.plot(ts, temperature, label=\"Temperature °C\")\n",
        "    l2, = plt.plot(ts, humidity, label=\"Humidity %\")\n",
        "    l3, = plt.plot(ts, feelLikeTemperature, label=\"Feel Like Temperature °C\")\n",
        "    l4, = plt.plot(ts, windSpeed, label=\"Wind Speed m/s\")\n",
        "    plt.legend(handles=[l1, l2, l3, l4], title=\"Legend\", fancybox=True, shadow=True, fontsize='large', loc='best', bbox_to_anchor=(0.5, 0.5, 0.5, 0.5))\n",
        "    plt.gcf().autofmt_xdate()\n",
        "    plt.show()"
      ],
      "outputs" : [
      ]
    },
    {
      "cell_type" : "code",
      "execution_count" : 32,
      "metadata" : {
        "cell.metadata.exec_info" : {
          "startTs" : 1595491845971,
          "endTs" : 1595491846070
        },
        "language" : "python"
      },
      "language" : "python",
      "source" : [
        "# TODO: Not very optimized but it is not important for that example\n",
        "listTimestamp = weatherDatas.fold_left([], lambda current, next: np.append(current, next.ts))\n",
        "listHumidity = weatherDatas.fold_left([], lambda current, next: np.append(current, next.humidity))\n",
        "listTemperature = weatherDatas.fold_left([], lambda current, next: np.append(current, next.temperature))\n",
        "listFeelLikeTemperature = weatherDatas.fold_left([], lambda current, next: np.append(current, next.feelLikeTemp))\n",
        "listWindSpeed = weatherDatas.fold_left([], lambda current, next: np.append(current, next.windSpeed))"
      ],
      "outputs" : [
      ]
    },
    {
      "cell_type" : "code",
      "execution_count" : 33,
      "metadata" : {
        "cell.metadata.exec_info" : {
          "startTs" : 1595491846075,
          "endTs" : 1595491846268
        },
        "language" : "python"
      },
      "language" : "python",
      "source" : [
        "plotExample(listTimestamp.to_list(), listTemperature.to_list(), listFeelLikeTemperature.to_list())"
      ],
      "outputs" : [
      ]
    },
    {
      "cell_type" : "code",
      "execution_count" : 34,
      "metadata" : {
        "cell.metadata.exec_info" : {
          "startTs" : 1595491846271,
          "endTs" : 1595491846442
        },
        "language" : "python"
      },
      "language" : "python",
      "source" : [
        "plotAll(listTimestamp.to_list(), listHumidity.to_list(), listTemperature.to_list(), listFeelLikeTemperature.to_list(), listWindSpeed.to_list())"
      ],
      "outputs" : [
      ]
    },
    {
      "cell_type" : "markdown",
      "execution_count" : 35,
      "metadata" : {
        "language" : "text"
      },
      "language" : "text",
      "source" : [
        "## Go back to Scala?\n",
        "\n"
      ],
      "outputs" : [
      ]
    },
    {
      "cell_type" : "markdown",
      "execution_count" : 36,
      "metadata" : {
        "language" : "text"
      },
      "language" : "text",
      "source" : [
        "We have a list of WeatherDataPython and we want a List[WeatherData]"
      ],
      "outputs" : [
      ]
    },
    {
      "cell_type" : "code",
      "execution_count" : 37,
      "metadata" : {
        "cell.metadata.exec_info" : {
          "startTs" : 1595491846447,
          "endTs" : 1595491846511
        },
        "language" : "python"
      },
      "language" : "python",
      "source" : [
        "weatherT = weatherDatas.to_list()\n",
        "print(weatherT)"
      ],
      "outputs" : [
      ]
    },
    {
      "cell_type" : "code",
      "execution_count" : 38,
      "metadata" : {
        "cell.metadata.exec_info" : {
          "startTs" : 1595491846514,
          "endTs" : 1595491846831
        },
        "language" : "scala"
      },
      "language" : "scala",
      "source" : [
        "val listWeathers = weatherT.asScalaList.map(WeatherData(_))\n",
        "println(listWeathers.head)"
      ],
      "outputs" : [
      ]
    }
  ]
}